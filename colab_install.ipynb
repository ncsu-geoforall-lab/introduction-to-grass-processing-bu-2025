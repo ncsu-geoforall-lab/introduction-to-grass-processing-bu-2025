{
  "cells": [
    {
      "attachments": {},
      "cell_type": "markdown",
      "metadata": {
        "id": "V5FdN92AUR_q"
      },
      "source": [
        "# Prepare the Environment\n",
        "\n",
        " This installs GRASS GIS, gets the workshop materials, and downloads the data."
      ]
    },
    {
      "cell_type": "code",
      "execution_count": null,
      "metadata": {
        "id": "tW-I7tg_85X6"
      },
      "outputs": [],
      "source": [
        "%%bash\n",
        "DEBIAN_FRONTEND=noninteractive sudo add-apt-repository ppa:ubuntugis/ubuntugis-unstable && apt update && apt install grass xvfb\n",
        "pip install PyVirtualDisplay\n",
        "git clone https://github.com/ncsu-geoforall-lab/introduction-to-grass-processing-bu-2025\n",
        "cd introduction-to-grass-processing-bu-2025\n",
        "sh download_data.sh"
      ]
    },
    {
      "cell_type": "code",
      "execution_count": null,
      "metadata": {
        "id": "UCdzD3IbTbFb"
      },
      "outputs": [],
      "source": [
        "import os\n",
        "os.chdir(\"introduction-to-grass-processing-bu-2025\")"
      ]
    }
  ],
  "metadata": {
    "colab": {
      "provenance": []
    },
    "kernelspec": {
      "display_name": "Python 3",
      "name": "python3"
    },
    "language_info": {
      "name": "python"
    }
  },
  "nbformat": 4,
  "nbformat_minor": 0
}
